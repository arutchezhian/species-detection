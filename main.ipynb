{
 "cells": [
  {
   "cell_type": "markdown",
   "id": "a23359f2",
   "metadata": {},
   "source": [
    "IMPORTS"
   ]
  },
  {
   "cell_type": "code",
   "execution_count": 74,
   "id": "7235d56e",
   "metadata": {},
   "outputs": [],
   "source": [
    "import tensorflow as tf\n",
    "import tensorflow_addons as tfa\n",
    "from sklearn.preprocessing import OneHotEncoder\n",
    "from tensorflow.keras.preprocessing.image import ImageDataGenerator\n",
    "import pandas as pd\n",
    "import numpy as np\n",
    "import time\n",
    "from datetime import date\n",
    "import matplotlib.pyplot as plt\n",
    "from fpdf import FPDF\n",
    "import os\n",
    "from tensorflow.keras.models import load_model\n",
    "import cv2\n",
    "import json \n",
    "from tensorflow.keras.models import Model,Sequential\n",
    "from tensorflow.keras.layers import Input, Conv2D, Dense, GlobalMaxPooling2D,Flatten,Dropout,MaxPool2D\n",
    "from tensorflow.keras.losses import CategoricalCrossentropy\n",
    "from tensorflow.keras.applications import VGG16,ResNet50V2\n",
    "from tensorflow.keras.optimizers import Adam\n",
    "from tensorflow.keras.preprocessing.image import load_img"
   ]
  },
  {
   "cell_type": "code",
   "execution_count": 75,
   "id": "dd5800db",
   "metadata": {},
   "outputs": [
    {
     "name": "stderr",
     "output_type": "stream",
     "text": [
      "c:\\Users\\shail\\anaconda3\\envs\\dd\\lib\\site-packages\\tensorflow\\python\\client\\session.py:1761: UserWarning: An interactive session is already active. This can cause out-of-memory errors in some cases. You must explicitly call `InteractiveSession.close()` to release resources held by the other session(s).\n",
      "  warnings.warn('An interactive session is already active. This can '\n"
     ]
    }
   ],
   "source": [
    "from tensorflow.compat.v1 import ConfigProto\n",
    "from tensorflow.compat.v1 import InteractiveSession\n",
    "\n",
    "config = ConfigProto()\n",
    "config.gpu_options.allow_growth = True\n",
    "session = InteractiveSession(config=config)"
   ]
  },
  {
   "cell_type": "markdown",
   "id": "27341e1d",
   "metadata": {},
   "source": [
    "PATHS"
   ]
  },
  {
   "cell_type": "code",
   "execution_count": 76,
   "id": "e6deaa99",
   "metadata": {},
   "outputs": [],
   "source": [
    "PATH=''\n",
    "WORKSPACE_PATH =PATH+ 'Tensorflow/workspace'\n",
    "SCRIPTS_PATH = PATH+'Tensorflow/scripts'\n",
    "APIMODEL_PATH = PATH+'Tensorflow/models'\n",
    "ANNOTATION_PATH = WORKSPACE_PATH+'/annotations'\n",
    "IMAGE_PATH = WORKSPACE_PATH+'/images'\n",
    "MODEL_PATH = WORKSPACE_PATH+'/models'\n",
    "PRETRAINED_MODEL_PATH = WORKSPACE_PATH+'/pre-trained-models'\n",
    "CONFIG_PATH = MODEL_PATH+'/my_ssd_mobnet/pipeline.config'\n"
   ]
  },
  {
   "cell_type": "markdown",
   "id": "990b95cf",
   "metadata": {},
   "source": [
    "CONFIG FILE"
   ]
  },
  {
   "cell_type": "code",
   "execution_count": 77,
   "id": "a0ef341b",
   "metadata": {},
   "outputs": [
    {
     "name": "stdout",
     "output_type": "stream",
     "text": [
      "['Moonfish', 'Dolphinfish', 'Bigeye tuna']\n"
     ]
    }
   ],
   "source": [
    "with open(ANNOTATION_PATH+'/classes.txt','r') as f:\n",
    "    classes_=f.readlines()\n",
    "    classes_=[x.replace('\\n','') for x in classes_]\n",
    "    print(classes_)\n"
   ]
  },
  {
   "cell_type": "code",
   "execution_count": 78,
   "id": "3ac91a2f",
   "metadata": {},
   "outputs": [],
   "source": [
    "class config:\n",
    "    imgWidth=640  ### SET DESIRED IMAGE WIDTH\n",
    "    imgHeight=640\n",
    "    input_shape=(imgHeight,imgWidth,3)  ### SET DESIRED IMAGE HEIGHT``\n",
    "    batchSize=8       ### BATCH SIZE (8,16,32,64)\n",
    "    epoch=5           ### EPOCH FOR MODEL TRAINING\n",
    "    classes_=classes_  # TYPE INDIVIDUAL CLASS NAMES HERE "
   ]
  },
  {
   "cell_type": "code",
   "execution_count": 79,
   "id": "082aaa87",
   "metadata": {},
   "outputs": [
    {
     "data": {
      "text/plain": [
       "(640, 640)"
      ]
     },
     "execution_count": 79,
     "metadata": {},
     "output_type": "execute_result"
    }
   ],
   "source": [
    "config.imgHeight,config.imgWidth"
   ]
  },
  {
   "cell_type": "markdown",
   "id": "9bb4d324",
   "metadata": {},
   "source": [
    "LOADING TRAINING IMAGE DATA"
   ]
  },
  {
   "cell_type": "code",
   "execution_count": 81,
   "id": "af18b4e4",
   "metadata": {},
   "outputs": [],
   "source": [
    "train_images=tf.data.Dataset.list_files(IMAGE_PATH+'/train/*.jpg',shuffle=False)\n",
    "test_images=tf.data.Dataset.list_files(IMAGE_PATH+'/test/*.jpg',shuffle=False)\n",
    "\n",
    "def load_image(x): \n",
    "    byte_img = tf.io.read_file(x)\n",
    "    img = tf.io.decode_jpeg(byte_img)\n",
    "    img=tf.image.resize(img,\n",
    "                        (config.imgHeight,config.imgWidth),\n",
    "                        preserve_aspect_ratio=False,\n",
    "                        antialias=False,       \n",
    "    )\n",
    "    img=tf.cast(\n",
    "    img, tf.uint8, name=None\n",
    "    )\n",
    "    return img\n",
    "train_images = train_images.map(lambda s : tf.py_function(load_image,[s],tf.uint8))\n",
    "test_images=test_images.map(lambda s : tf.py_function(load_image,[s],tf.uint8))"
   ]
  },
  {
   "cell_type": "markdown",
   "id": "8876cbdf",
   "metadata": {},
   "source": [
    "ONE HOT ENCODER"
   ]
  },
  {
   "cell_type": "code",
   "execution_count": 82,
   "id": "ce677d06",
   "metadata": {},
   "outputs": [
    {
     "data": {
      "text/plain": [
       "OneHotEncoder(sparse=False)"
      ]
     },
     "execution_count": 82,
     "metadata": {},
     "output_type": "execute_result"
    }
   ],
   "source": [
    "### ONE HOT ENCODING FOR LABEL LIST\n",
    "encoder=OneHotEncoder(sparse=False)\n",
    "encoder.fit(np.array(config.classes_).reshape(-1,1))"
   ]
  },
  {
   "cell_type": "markdown",
   "id": "83b408d6",
   "metadata": {},
   "source": [
    "LOADING LABELS"
   ]
  },
  {
   "cell_type": "code",
   "execution_count": 83,
   "id": "c2af216f",
   "metadata": {},
   "outputs": [],
   "source": [
    "\n",
    "def load_labels(label_path):\n",
    "    with open(label_path.numpy(), 'r', encoding = \"utf-8\") as f:\n",
    "        label = json.load(f)\n",
    "        label=dict(label[0])\n",
    "        label=dict(label['annotations'][0])\n",
    "        className=label['label']\n",
    "        classEncoding=encoder.transform([[className]]).reshape(3)\n",
    "        coordinates=dict(label['coordinates'])\n",
    "        xmin,ymin,xmax,ymax=coordinates['x'],coordinates['y'],coordinates['width']+coordinates['x'],coordinates['height']+coordinates['y']\n",
    "        x_scale = config.imgWidth / 1280\n",
    "        y_scale = config.imgHeight / 720 \n",
    "        \n",
    "        xmin,ymin,xmax,ymax=xmin*x_scale,ymin*y_scale,xmax*x_scale,ymax*y_scale\n",
    "        confidence=1\n",
    "        if className==\"nan\":\n",
    "            confidence=0\n",
    "            xmin,ymin,xmax,ymax=0\n",
    "    return np.array(classEncoding),[xmin,ymin,xmax,ymax]\n",
    "train_labels = tf.data.Dataset.list_files(IMAGE_PATH+'/train/*.json', shuffle=False)\n",
    "train_labels = train_labels.map(lambda x: tf.py_function(load_labels, [x], [tf.float16, tf.float16]))\n",
    "\n",
    "test_labels = tf.data.Dataset.list_files(IMAGE_PATH+'/train/*.json', shuffle=False)\n",
    "test_labels = test_labels.map(lambda x: tf.py_function(load_labels, [x], [tf.float16, tf.float16]))"
   ]
  },
  {
   "cell_type": "markdown",
   "id": "5194a96d",
   "metadata": {},
   "source": [
    "ANALYSING .JSON FILES"
   ]
  },
  {
   "cell_type": "code",
   "execution_count": 84,
   "metadata": {},
   "outputs": [
    {
     "name": "stdout",
     "output_type": "stream",
     "text": [
      "Moonfish\n",
      "Bigeye tuna\n",
      "Dolphinfish\n",
      "Moonfish\n",
      "Bigeye tuna\n",
      "Bigeye tuna\n",
      "Bigeye tuna\n",
      "Bigeye tuna\n",
      "Dolphinfish\n",
      "Bigeye tuna\n",
      "Dolphinfish\n",
      "Dolphinfish\n",
      "Bigeye tuna\n",
      "Bigeye tuna\n",
      "Bigeye tuna\n",
      "Bigeye tuna\n",
      "Bigeye tuna\n",
      "Bigeye tuna\n",
      "Bigeye tuna\n",
      "Dolphinfish\n",
      "Bigeye tuna\n",
      "Bigeye tuna\n",
      "Bigeye tuna\n",
      "Dolphinfish\n",
      "Moonfish\n",
      "Dolphinfish\n",
      "Dolphinfish\n",
      "Bigeye tuna\n",
      "Dolphinfish\n",
      "Dolphinfish\n",
      "Dolphinfish\n",
      "Bigeye tuna\n",
      "Bigeye tuna\n",
      "Moonfish\n",
      "Bigeye tuna\n",
      "Bigeye tuna\n",
      "Dolphinfish\n",
      "Bigeye tuna\n",
      "Dolphinfish\n",
      "Dolphinfish\n",
      "Bigeye tuna\n",
      "Bigeye tuna\n",
      "Moonfish\n",
      "Dolphinfish\n",
      "Dolphinfish\n",
      "Bigeye tuna\n",
      "Dolphinfish\n",
      "Bigeye tuna\n",
      "Dolphinfish\n",
      "Bigeye tuna\n",
      "Bigeye tuna\n",
      "Bigeye tuna\n",
      "Dolphinfish\n",
      "Bigeye tuna\n",
      "Bigeye tuna\n",
      "Bigeye tuna\n",
      "Dolphinfish\n",
      "Bigeye tuna\n",
      "Bigeye tuna\n",
      "Bigeye tuna\n",
      "Dolphinfish\n",
      "Dolphinfish\n",
      "Bigeye tuna\n",
      "Bigeye tuna\n",
      "Moonfish\n",
      "Dolphinfish\n",
      "Dolphinfish\n",
      "Dolphinfish\n",
      "Bigeye tuna\n",
      "Bigeye tuna\n",
      "Moonfish\n",
      "Moonfish\n",
      "Dolphinfish\n",
      "Dolphinfish\n",
      "Dolphinfish\n",
      "Dolphinfish\n",
      "Dolphinfish\n",
      "Moonfish\n",
      "Bigeye tuna\n",
      "Bigeye tuna\n",
      "Bigeye tuna\n",
      "Bigeye tuna\n",
      "Moonfish\n",
      "Dolphinfish\n",
      "Dolphinfish\n",
      "Dolphinfish\n",
      "Dolphinfish\n",
      "Bigeye tuna\n",
      "Bigeye tuna\n",
      "Bigeye tuna\n",
      "Bigeye tuna\n",
      "Bigeye tuna\n",
      "Moonfish\n",
      "Bigeye tuna\n",
      "Bigeye tuna\n",
      "Moonfish\n",
      "Moonfish\n",
      "Bigeye tuna\n",
      "Dolphinfish\n",
      "Bigeye tuna\n",
      "Bigeye tuna\n",
      "Bigeye tuna\n",
      "Bigeye tuna\n",
      "Bigeye tuna\n",
      "Bigeye tuna\n",
      "Moonfish\n",
      "Bigeye tuna\n",
      "Bigeye tuna\n",
      "Bigeye tuna\n",
      "Dolphinfish\n",
      "Moonfish\n",
      "Dolphinfish\n",
      "Dolphinfish\n",
      "Dolphinfish\n",
      "Bigeye tuna\n",
      "Moonfish\n",
      "Bigeye tuna\n",
      "Dolphinfish\n",
      "Moonfish\n",
      "Dolphinfish\n",
      "Dolphinfish\n",
      "Dolphinfish\n",
      "Bigeye tuna\n",
      "Dolphinfish\n",
      "Moonfish\n",
      "Bigeye tuna\n",
      "Bigeye tuna\n",
      "Dolphinfish\n",
      "Moonfish\n",
      "Bigeye tuna\n",
      "Dolphinfish\n",
      "Moonfish\n",
      "Bigeye tuna\n",
      "Moonfish\n",
      "Bigeye tuna\n",
      "Bigeye tuna\n",
      "Dolphinfish\n",
      "Bigeye tuna\n",
      "Moonfish\n",
      "Dolphinfish\n",
      "Bigeye tuna\n",
      "Bigeye tuna\n",
      "Dolphinfish\n",
      "Dolphinfish\n",
      "Dolphinfish\n",
      "Dolphinfish\n",
      "Dolphinfish\n",
      "Bigeye tuna\n",
      "Bigeye tuna\n",
      "Bigeye tuna\n",
      "Bigeye tuna\n",
      "Moonfish\n",
      "Bigeye tuna\n",
      "Moonfish\n",
      "Dolphinfish\n",
      "Bigeye tuna\n",
      "Dolphinfish\n",
      "Bigeye tuna\n",
      "Bigeye tuna\n",
      "Bigeye tuna\n",
      "Bigeye tuna\n",
      "Dolphinfish\n",
      "Bigeye tuna\n",
      "Dolphinfish\n",
      "Bigeye tuna\n",
      "Moonfish\n",
      "Bigeye tuna\n",
      "Dolphinfish\n",
      "Bigeye tuna\n",
      "Bigeye tuna\n",
      "Dolphinfish\n",
      "Bigeye tuna\n",
      "Moonfish\n",
      "Moonfish\n",
      "Bigeye tuna\n",
      "Bigeye tuna\n",
      "Bigeye tuna\n",
      "Dolphinfish\n",
      "Bigeye tuna\n",
      "Bigeye tuna\n",
      "Bigeye tuna\n",
      "Dolphinfish\n",
      "Moonfish\n",
      "Dolphinfish\n",
      "Bigeye tuna\n",
      "Bigeye tuna\n",
      "Bigeye tuna\n",
      "Bigeye tuna\n",
      "Bigeye tuna\n",
      "Bigeye tuna\n",
      "Bigeye tuna\n",
      "Bigeye tuna\n",
      "Bigeye tuna\n",
      "Moonfish\n",
      "Bigeye tuna\n",
      "Moonfish\n",
      "Dolphinfish\n",
      "Bigeye tuna\n",
      "Moonfish\n",
      "Bigeye tuna\n",
      "Dolphinfish\n",
      "Bigeye tuna\n",
      "Moonfish\n",
      "Dolphinfish\n",
      "Dolphinfish\n",
      "Moonfish\n",
      "Moonfish\n",
      "Bigeye tuna\n",
      "Bigeye tuna\n",
      "Moonfish\n",
      "Bigeye tuna\n",
      "Bigeye tuna\n",
      "Dolphinfish\n",
      "Bigeye tuna\n",
      "Bigeye tuna\n",
      "Bigeye tuna\n",
      "Dolphinfish\n",
      "Moonfish\n",
      "Moonfish\n",
      "Bigeye tuna\n",
      "Bigeye tuna\n",
      "Moonfish\n",
      "Moonfish\n",
      "Dolphinfish\n",
      "Bigeye tuna\n",
      "Dolphinfish\n",
      "Bigeye tuna\n",
      "Dolphinfish\n",
      "Bigeye tuna\n",
      "Bigeye tuna\n",
      "Bigeye tuna\n",
      "Dolphinfish\n",
      "Bigeye tuna\n",
      "Bigeye tuna\n",
      "Moonfish\n",
      "Moonfish\n",
      "Bigeye tuna\n",
      "Bigeye tuna\n",
      "Moonfish\n",
      "Dolphinfish\n",
      "Bigeye tuna\n",
      "Bigeye tuna\n",
      "Moonfish\n",
      "Bigeye tuna\n",
      "Moonfish\n",
      "Bigeye tuna\n",
      "Dolphinfish\n",
      "Bigeye tuna\n",
      "Bigeye tuna\n",
      "Bigeye tuna\n",
      "Bigeye tuna\n",
      "Bigeye tuna\n",
      "Dolphinfish\n",
      "Bigeye tuna\n",
      "Bigeye tuna\n",
      "Bigeye tuna\n",
      "Bigeye tuna\n",
      "Dolphinfish\n",
      "Bigeye tuna\n",
      "Moonfish\n",
      "Bigeye tuna\n",
      "Dolphinfish\n",
      "Bigeye tuna\n",
      "Dolphinfish\n",
      "Dolphinfish\n",
      "Moonfish\n",
      "Bigeye tuna\n",
      "Dolphinfish\n",
      "Dolphinfish\n",
      "Dolphinfish\n",
      "Dolphinfish\n",
      "Bigeye tuna\n",
      "Dolphinfish\n",
      "Bigeye tuna\n",
      "Dolphinfish\n",
      "Bigeye tuna\n",
      "Bigeye tuna\n",
      "Bigeye tuna\n",
      "Bigeye tuna\n",
      "Dolphinfish\n",
      "Bigeye tuna\n",
      "Bigeye tuna\n",
      "Bigeye tuna\n",
      "Bigeye tuna\n",
      "Bigeye tuna\n",
      "Bigeye tuna\n",
      "Bigeye tuna\n",
      "Dolphinfish\n",
      "Dolphinfish\n",
      "Dolphinfish\n",
      "Moonfish\n",
      "Moonfish\n",
      "Moonfish\n",
      "Dolphinfish\n",
      "Bigeye tuna\n",
      "Bigeye tuna\n",
      "Dolphinfish\n",
      "Bigeye tuna\n",
      "Dolphinfish\n",
      "Moonfish\n",
      "Dolphinfish\n",
      "Dolphinfish\n",
      "Moonfish\n",
      "Moonfish\n",
      "Dolphinfish\n",
      "Moonfish\n",
      "Bigeye tuna\n",
      "Dolphinfish\n",
      "Bigeye tuna\n",
      "Dolphinfish\n",
      "Dolphinfish\n",
      "Dolphinfish\n",
      "Bigeye tuna\n",
      "Dolphinfish\n",
      "Bigeye tuna\n",
      "Bigeye tuna\n",
      "Moonfish\n",
      "Bigeye tuna\n",
      "Bigeye tuna\n",
      "Dolphinfish\n",
      "Bigeye tuna\n",
      "Bigeye tuna\n",
      "Bigeye tuna\n",
      "Dolphinfish\n",
      "Dolphinfish\n",
      "Moonfish\n",
      "Dolphinfish\n",
      "Bigeye tuna\n",
      "Dolphinfish\n",
      "Bigeye tuna\n",
      "Bigeye tuna\n",
      "Bigeye tuna\n",
      "Bigeye tuna\n",
      "Bigeye tuna\n",
      "Bigeye tuna\n",
      "Moonfish\n",
      "Dolphinfish\n",
      "Bigeye tuna\n",
      "Bigeye tuna\n",
      "Bigeye tuna\n",
      "Moonfish\n",
      "Bigeye tuna\n",
      "Bigeye tuna\n",
      "Moonfish\n",
      "Moonfish\n",
      "Bigeye tuna\n",
      "Moonfish\n",
      "Dolphinfish\n",
      "Dolphinfish\n",
      "Moonfish\n",
      "Dolphinfish\n",
      "Bigeye tuna\n",
      "Bigeye tuna\n",
      "Moonfish\n",
      "Bigeye tuna\n",
      "Bigeye tuna\n",
      "Bigeye tuna\n",
      "Bigeye tuna\n",
      "Bigeye tuna\n",
      "Bigeye tuna\n",
      "Dolphinfish\n",
      "Bigeye tuna\n",
      "Bigeye tuna\n",
      "Bigeye tuna\n",
      "Dolphinfish\n",
      "Dolphinfish\n",
      "Bigeye tuna\n",
      "Dolphinfish\n",
      "Bigeye tuna\n",
      "Moonfish\n",
      "Bigeye tuna\n",
      "Bigeye tuna\n",
      "Moonfish\n",
      "Bigeye tuna\n",
      "Moonfish\n",
      "Dolphinfish\n",
      "Moonfish\n"
     ]
    }
   ],
   "source": [
    "### CHECKING FOR UNWANTED CLASS NAMES\n",
    "for i in os.listdir('Tensorflow\\\\workspace\\\\images\\\\train\\\\'):\n",
    "    if i[-1]=='n':\n",
    "        with open('Tensorflow\\\\workspace\\\\images\\\\train\\\\'+i, 'r', encoding = \"utf-8\") as f:\n",
    "            label = json.load(f)\n",
    "            label=dict(label[0])\n",
    "            label=dict(label['annotations'][0])\n",
    "            className=label['label']\n",
    "            print(className)"
   ]
  },
  {
   "cell_type": "markdown",
   "id": "184f3492",
   "metadata": {},
   "source": [
    "COMBING IMAGES AND LABELS"
   ]
  },
  {
   "cell_type": "code",
   "execution_count": 85,
   "id": "8f93237a",
   "metadata": {},
   "outputs": [],
   "source": [
    "train = tf.data.Dataset.zip((train_images, train_labels))\n",
    "train = train.shuffle(5000)\n",
    "train = train.batch(config.batchSize)\n",
    "train = train.prefetch(4)\n",
    "\n",
    "test = tf.data.Dataset.zip((test_images, test_labels))\n",
    "test = test.shuffle(1300)\n",
    "test = test.batch(config.batchSize)\n",
    "test = test.prefetch(4)\n"
   ]
  },
  {
   "cell_type": "code",
   "execution_count": 86,
   "id": "559821ba",
   "metadata": {},
   "outputs": [
    {
     "data": {
      "text/plain": [
       "(array([[1., 0., 0.],\n",
       "        [0., 0., 1.],\n",
       "        [1., 0., 0.],\n",
       "        [0., 0., 1.],\n",
       "        [1., 0., 0.],\n",
       "        [0., 1., 0.],\n",
       "        [0., 0., 1.],\n",
       "        [1., 0., 0.]], dtype=float16),\n",
       " array([[167.1, 456.5, 268. , 848.5],\n",
       "        [420.8, 290.5, 595. , 589. ],\n",
       "        [309.8, 668. , 479.2, 887.5],\n",
       "        [394.2, 375.8, 496.8, 507.5],\n",
       "        [332.5, 185.1, 486.5, 264.2],\n",
       "        [297.2, 762. , 594. , 923.5],\n",
       "        [387.8, 373.5, 479.2, 509.5],\n",
       "        [329.8, 124.4, 443.2, 373. ]], dtype=float16))"
      ]
     },
     "execution_count": 86,
     "metadata": {},
     "output_type": "execute_result"
    }
   ],
   "source": [
    "train.as_numpy_iterator().next()[1]"
   ]
  },
  {
   "cell_type": "markdown",
   "id": "868aa7e7",
   "metadata": {},
   "source": [
    "DOWNLOAD VGG16 MODEL"
   ]
  },
  {
   "cell_type": "code",
   "execution_count": 13,
   "id": "d4bc961f",
   "metadata": {},
   "outputs": [],
   "source": [
    "resnet=ResNet50V2(include_top=True)"
   ]
  },
  {
   "cell_type": "code",
   "execution_count": 14,
   "id": "dbfa9f0b",
   "metadata": {},
   "outputs": [
    {
     "name": "stdout",
     "output_type": "stream",
     "text": [
      "Model: \"vgg16\"\n",
      "_________________________________________________________________\n",
      "Layer (type)                 Output Shape              Param #   \n",
      "=================================================================\n",
      "input_2 (InputLayer)         [(None, None, None, 3)]   0         \n",
      "_________________________________________________________________\n",
      "block1_conv1 (Conv2D)        (None, None, None, 64)    1792      \n",
      "_________________________________________________________________\n",
      "block1_conv2 (Conv2D)        (None, None, None, 64)    36928     \n",
      "_________________________________________________________________\n",
      "block1_pool (MaxPooling2D)   (None, None, None, 64)    0         \n",
      "_________________________________________________________________\n",
      "block2_conv1 (Conv2D)        (None, None, None, 128)   73856     \n",
      "_________________________________________________________________\n",
      "block2_conv2 (Conv2D)        (None, None, None, 128)   147584    \n",
      "_________________________________________________________________\n",
      "block2_pool (MaxPooling2D)   (None, None, None, 128)   0         \n",
      "_________________________________________________________________\n",
      "block3_conv1 (Conv2D)        (None, None, None, 256)   295168    \n",
      "_________________________________________________________________\n",
      "block3_conv2 (Conv2D)        (None, None, None, 256)   590080    \n",
      "_________________________________________________________________\n",
      "block3_conv3 (Conv2D)        (None, None, None, 256)   590080    \n",
      "_________________________________________________________________\n",
      "block3_pool (MaxPooling2D)   (None, None, None, 256)   0         \n",
      "_________________________________________________________________\n",
      "block4_conv1 (Conv2D)        (None, None, None, 512)   1180160   \n",
      "_________________________________________________________________\n",
      "block4_conv2 (Conv2D)        (None, None, None, 512)   2359808   \n",
      "_________________________________________________________________\n",
      "block4_conv3 (Conv2D)        (None, None, None, 512)   2359808   \n",
      "_________________________________________________________________\n",
      "block4_pool (MaxPooling2D)   (None, None, None, 512)   0         \n",
      "_________________________________________________________________\n",
      "block5_conv1 (Conv2D)        (None, None, None, 512)   2359808   \n",
      "_________________________________________________________________\n",
      "block5_conv2 (Conv2D)        (None, None, None, 512)   2359808   \n",
      "_________________________________________________________________\n",
      "block5_conv3 (Conv2D)        (None, None, None, 512)   2359808   \n",
      "_________________________________________________________________\n",
      "block5_pool (MaxPooling2D)   (None, None, None, 512)   0         \n",
      "=================================================================\n",
      "Total params: 14,714,688\n",
      "Trainable params: 14,714,688\n",
      "Non-trainable params: 0\n",
      "_________________________________________________________________\n"
     ]
    }
   ],
   "source": [
    "vgg = VGG16(weights='imagenet',include_top=False)\n",
    "vgg.summary()"
   ]
  },
  {
   "cell_type": "markdown",
   "id": "eea8679c",
   "metadata": {},
   "source": [
    "BUILDING AN INSTANCE OF MODEL"
   ]
  },
  {
   "cell_type": "code",
   "execution_count": null,
   "id": "b6ea915c",
   "metadata": {},
   "outputs": [],
   "source": []
  },
  {
   "cell_type": "code",
   "execution_count": null,
   "id": "e2e225db",
   "metadata": {},
   "outputs": [],
   "source": []
  },
  {
   "cell_type": "code",
   "execution_count": 15,
   "id": "28599a58",
   "metadata": {},
   "outputs": [],
   "source": [
    "def build_model(): \n",
    "    input_layer = Input(shape=(config.imgHeight,config.imgWidth,3))\n",
    "    \n",
    "    vgg = VGG16(weights='imagenet',include_top=False)(input_layer)\n",
    "\n",
    "    # Classification Model  \n",
    "    f1 = GlobalMaxPooling2D()(vgg)\n",
    "    class1 = Dense(2048, activation='relu')(f1)\n",
    "    class2 = Dense(len(config.classes_), activation='sigmoid')(class1)\n",
    "    \n",
    "    # Bounding box model\n",
    "    f2 = GlobalMaxPooling2D()(vgg)\n",
    "    regress1 = Dense(2048, activation='relu')(f2)\n",
    "    regress2 = Dense(4, activation='sigmoid')(regress1)\n",
    "    \n",
    "    model = Model(inputs=input_layer, outputs=[class2, regress2])\n",
    "    return model\n",
    "\n"
   ]
  },
  {
   "cell_type": "code",
   "execution_count": 16,
   "id": "21b1f1ce",
   "metadata": {},
   "outputs": [
    {
     "name": "stdout",
     "output_type": "stream",
     "text": [
      "Model: \"model\"\n",
      "__________________________________________________________________________________________________\n",
      "Layer (type)                    Output Shape         Param #     Connected to                     \n",
      "==================================================================================================\n",
      "input_3 (InputLayer)            [(None, 640, 640, 3) 0                                            \n",
      "__________________________________________________________________________________________________\n",
      "vgg16 (Functional)              (None, None, None, 5 14714688    input_3[0][0]                    \n",
      "__________________________________________________________________________________________________\n",
      "global_max_pooling2d (GlobalMax (None, 512)          0           vgg16[0][0]                      \n",
      "__________________________________________________________________________________________________\n",
      "global_max_pooling2d_1 (GlobalM (None, 512)          0           vgg16[0][0]                      \n",
      "__________________________________________________________________________________________________\n",
      "dense (Dense)                   (None, 2048)         1050624     global_max_pooling2d[0][0]       \n",
      "__________________________________________________________________________________________________\n",
      "dense_2 (Dense)                 (None, 2048)         1050624     global_max_pooling2d_1[0][0]     \n",
      "__________________________________________________________________________________________________\n",
      "dense_1 (Dense)                 (None, 3)            6147        dense[0][0]                      \n",
      "__________________________________________________________________________________________________\n",
      "dense_3 (Dense)                 (None, 4)            8196        dense_2[0][0]                    \n",
      "==================================================================================================\n",
      "Total params: 16,830,279\n",
      "Trainable params: 16,830,279\n",
      "Non-trainable params: 0\n",
      "__________________________________________________________________________________________________\n"
     ]
    },
    {
     "data": {
      "text/plain": [
       "(array([[6.4088054e-24, 9.9889177e-01, 1.0000000e+00],\n",
       "        [1.1143667e-33, 2.5564614e-10, 8.7100631e-01],\n",
       "        [4.8287207e-29, 1.0809930e-02, 8.5008609e-01],\n",
       "        [1.6519819e-23, 3.4965417e-01, 1.0000000e+00],\n",
       "        [1.2683405e-37, 1.4489337e-06, 1.0000000e+00],\n",
       "        [9.6726340e-26, 1.0708549e-10, 9.9569583e-01],\n",
       "        [1.8746444e-28, 1.4565632e-07, 1.0000000e+00],\n",
       "        [0.0000000e+00, 8.2128467e-03, 3.0279567e-02]], dtype=float32),\n",
       " array([[1.0000000e+00, 1.6185088e-02, 1.4178504e-34, 1.0000000e+00],\n",
       "        [9.9999881e-01, 7.3934007e-01, 3.6591032e-23, 1.0000000e+00],\n",
       "        [1.0000000e+00, 9.5194197e-01, 3.3781516e-27, 1.0000000e+00],\n",
       "        [1.0000000e+00, 9.9919838e-01, 5.6550405e-31, 1.0000000e+00],\n",
       "        [6.3025905e-06, 7.1726083e-09, 1.0381175e-26, 1.0000000e+00],\n",
       "        [8.7354094e-02, 9.9999630e-01, 1.8141770e-20, 1.0000000e+00],\n",
       "        [1.0000000e+00, 1.0000000e+00, 5.8493424e-18, 1.0000000e+00],\n",
       "        [1.0000000e+00, 1.0000000e+00, 4.7328696e-29, 1.0000000e+00]],\n",
       "       dtype=float32))"
      ]
     },
     "execution_count": 16,
     "metadata": {},
     "output_type": "execute_result"
    }
   ],
   "source": [
    "fishtracker = build_model()\n",
    "fishtracker.summary()\n",
    "X, y = train.as_numpy_iterator().next()\n",
    "classes, coords = fishtracker.predict(X)\n",
    "classes, coords\n"
   ]
  },
  {
   "cell_type": "markdown",
   "id": "aa59b9a2",
   "metadata": {},
   "source": [
    "TEST OUT NEURAL NETWORK"
   ]
  },
  {
   "cell_type": "markdown",
   "id": "d908d66d",
   "metadata": {},
   "source": [
    "DEFINING LOSSES AND OPTIMIZERS"
   ]
  },
  {
   "cell_type": "code",
   "execution_count": 17,
   "id": "06479b58",
   "metadata": {},
   "outputs": [],
   "source": [
    "batches_per_epoch = len(train)\n",
    "lr_decay = (1./0.75 -1)/batches_per_epoch"
   ]
  },
  {
   "cell_type": "code",
   "execution_count": 18,
   "id": "1e2e5122",
   "metadata": {},
   "outputs": [],
   "source": [
    "opt = tf.keras.optimizers.Adam(learning_rate=0.0001, decay=lr_decay)"
   ]
  },
  {
   "cell_type": "markdown",
   "id": "d1675786",
   "metadata": {},
   "source": [
    "CREATE LOCALIZATION LOSS AND CLASSIFICATION LOSS"
   ]
  },
  {
   "cell_type": "code",
   "execution_count": 19,
   "id": "afe588e8",
   "metadata": {},
   "outputs": [],
   "source": [
    "def localization_loss(y_true, yhat):            \n",
    "    delta_coord = tf.reduce_sum(tf.square(y_true[:,:2] - yhat[:,:2]))\n",
    "                  \n",
    "    h_true = y_true[:,3] - y_true[:,1] \n",
    "    w_true = y_true[:,2] - y_true[:,0] \n",
    "\n",
    "    h_pred = yhat[:,3] - yhat[:,1] \n",
    "    w_pred = yhat[:,2] - yhat[:,0] \n",
    "    \n",
    "    delta_size = tf.reduce_sum(tf.square(w_true - w_pred) + tf.square(h_true-h_pred))\n",
    "    \n",
    "    return delta_coord + delta_size"
   ]
  },
  {
   "cell_type": "code",
   "execution_count": null,
   "id": "f36da39d",
   "metadata": {},
   "outputs": [],
   "source": []
  },
  {
   "cell_type": "code",
   "execution_count": 20,
   "id": "7e21955e",
   "metadata": {},
   "outputs": [],
   "source": [
    "classloss = tf.keras.losses.BinaryCrossentropy(from_logits=True)\n",
    "regressloss = tfa.losses.GIoULoss()"
   ]
  },
  {
   "cell_type": "markdown",
   "id": "237180de",
   "metadata": {},
   "source": [
    "TESTING LOSS METRICS"
   ]
  },
  {
   "cell_type": "code",
   "execution_count": 21,
   "id": "e87e0396",
   "metadata": {},
   "outputs": [
    {
     "data": {
      "text/plain": [
       "<tf.Tensor: shape=(), dtype=float32, numpy=2431680.0>"
      ]
     },
     "execution_count": 21,
     "metadata": {},
     "output_type": "execute_result"
    }
   ],
   "source": [
    "localization_loss(y[1], coords)"
   ]
  },
  {
   "cell_type": "code",
   "execution_count": 22,
   "id": "1f80ef7b",
   "metadata": {},
   "outputs": [
    {
     "data": {
      "text/plain": [
       "<tf.Tensor: shape=(), dtype=float32, numpy=0.85818887>"
      ]
     },
     "execution_count": 22,
     "metadata": {},
     "output_type": "execute_result"
    }
   ],
   "source": [
    "classloss(y[0], classes)"
   ]
  },
  {
   "cell_type": "code",
   "execution_count": 23,
   "id": "c1f65a42",
   "metadata": {},
   "outputs": [
    {
     "data": {
      "text/plain": [
       "<tf.Tensor: shape=(), dtype=float32, numpy=1.8517244>"
      ]
     },
     "execution_count": 23,
     "metadata": {},
     "output_type": "execute_result"
    }
   ],
   "source": [
    "regressloss(y[1], coords)"
   ]
  },
  {
   "cell_type": "markdown",
   "id": "d0d018be",
   "metadata": {},
   "source": [
    "CREATING CUSTOM MODEL CLASS"
   ]
  },
  {
   "cell_type": "code",
   "execution_count": 24,
   "id": "5664ba6c",
   "metadata": {},
   "outputs": [],
   "source": [
    "class FishTracker(Model): \n",
    "    def __init__(self, eyetracker,  **kwargs): \n",
    "        super().__init__(**kwargs)\n",
    "        self.model = eyetracker\n",
    "\n",
    "\n",
    "    def compile(self, opt, classloss, localizationloss, **kwargs):\n",
    "        super().compile(**kwargs)\n",
    "        self.closs = classloss\n",
    "        self.lloss = localizationloss\n",
    "        self.opt = opt\n",
    "    \n",
    "    def train_step(self, batch, **kwargs): \n",
    "        \n",
    "        X, y = batch\n",
    "        \n",
    "        with tf.GradientTape() as tape: \n",
    "            classes, coords = self.model(X, training=True)\n",
    "            \n",
    "            batch_classloss = self.closs(y[0], classes)\n",
    "            batch_localizationloss = self.lloss(tf.cast(y[1], tf.float32), coords)\n",
    "            \n",
    "            total_loss = batch_localizationloss+0.5*batch_classloss\n",
    "            \n",
    "            grad = tape.gradient(total_loss, self.model.trainable_variables)\n",
    "        \n",
    "        opt.apply_gradients(zip(grad, self.model.trainable_variables))\n",
    "        \n",
    "        return {\"loss\":total_loss, \"class_loss\":batch_classloss, \"regress_loss\":batch_localizationloss}\n",
    "    \n",
    "    def test_step(self, batch, **kwargs): \n",
    "        X, y = batch\n",
    "        \n",
    "        classes, coords = self.model(X, training=False)\n",
    "        \n",
    "        batch_classloss = self.closs(y[0], classes)\n",
    "        batch_localizationloss = self.lloss(tf.cast(y[1], tf.float32), coords)\n",
    "        total_loss = batch_localizationloss+0.5*batch_classloss\n",
    "        \n",
    "        return {\"loss\":total_loss, \"class_loss\":batch_classloss, \"regress_loss\":batch_localizationloss}\n",
    "        \n",
    "    def call(self, X, **kwargs): \n",
    "        return self.model(X, **kwargs)"
   ]
  },
  {
   "cell_type": "code",
   "execution_count": 25,
   "id": "fa60a6dd",
   "metadata": {},
   "outputs": [],
   "source": [
    "model = FishTracker(fishtracker)\n",
    "model.compile(opt, classloss, regressloss)\n"
   ]
  },
  {
   "cell_type": "markdown",
   "id": "5478e184",
   "metadata": {},
   "source": [
    "# TRANING MODEL"
   ]
  },
  {
   "cell_type": "code",
   "execution_count": 26,
   "id": "eabcace4",
   "metadata": {},
   "outputs": [
    {
     "name": "stdout",
     "output_type": "stream",
     "text": [
      "Epoch 1/4\n",
      "48/48 [==============================] - 53s 870ms/step - loss: 2.2360 - class_loss: 0.6956 - regress_loss: 1.8882\n",
      "Epoch 2/4\n",
      "48/48 [==============================] - 40s 735ms/step - loss: 2.2323 - class_loss: 0.6931 - regress_loss: 1.8857\n",
      "Epoch 3/4\n",
      "48/48 [==============================] - 40s 737ms/step - loss: 2.2363 - class_loss: 0.6931 - regress_loss: 1.8898\n",
      "Epoch 4/4\n",
      "48/48 [==============================] - 40s 740ms/step - loss: 2.2357 - class_loss: 0.6931 - regress_loss: 1.8892\n"
     ]
    }
   ],
   "source": [
    "logdir='logs'\n",
    "tensorboard_callback = tf.keras.callbacks.TensorBoard(log_dir=logdir)\n",
    "callback = tf.keras.callbacks.EarlyStopping(monitor='loss', patience=5)\n",
    "hist = model.fit(train, epochs=4,callbacks=callback)"
   ]
  },
  {
   "cell_type": "markdown",
   "id": "352328b8",
   "metadata": {},
   "source": [
    "# SAVE MODEL"
   ]
  },
  {
   "cell_type": "code",
   "execution_count": 27,
   "id": "62b1bd76",
   "metadata": {},
   "outputs": [
    {
     "name": "stdout",
     "output_type": "stream",
     "text": [
      "INFO:tensorflow:Assets written to: Tensorflow/workspace/models/linear_mse/assets\n"
     ]
    }
   ],
   "source": [
    "fishtracker.save(MODEL_PATH+'/linear_mse/')"
   ]
  },
  {
   "cell_type": "markdown",
   "id": "6b40f7f5",
   "metadata": {},
   "source": [
    "# LOAD MODEL"
   ]
  },
  {
   "cell_type": "code",
   "execution_count": 62,
   "id": "8170e3fa",
   "metadata": {},
   "outputs": [
    {
     "name": "stdout",
     "output_type": "stream",
     "text": [
      "WARNING:tensorflow:No training configuration found in save file, so the model was *not* compiled. Compile it manually.\n"
     ]
    }
   ],
   "source": [
    "fishtracker= load_model(MODEL_PATH+'/linear_mse/')"
   ]
  },
  {
   "cell_type": "code",
   "execution_count": 29,
   "id": "42ede061",
   "metadata": {},
   "outputs": [
    {
     "data": {
      "image/png": "[encoded data removed]",
      "text/plain": [
       "<Figure size 1440x360 with 3 Axes>"
      ]
     },
     "metadata": {
      "needs_background": "light"
     },
     "output_type": "display_data"
    }
   ],
   "source": [
    "hist.history\n",
    "fig, ax = plt.subplots(ncols=3, figsize=(20,5))\n",
    "\n",
    "ax[0].plot(hist.history['loss'], color='teal', label='loss')\n",
    "ax[0].title.set_text('Loss')\n",
    "ax[0].legend()\n",
    "\n",
    "ax[1].plot(hist.history['loss'], color='teal', label='class loss')\n",
    "ax[1].title.set_text('Classification Loss')\n",
    "ax[1].legend()\n",
    "\n",
    "ax[2].plot(hist.history['loss'], color='teal', label='regress loss')\n",
    "ax[2].title.set_text('Regression Loss')\n",
    "ax[2].legend()\n",
    "\n",
    "plt.show()\n"
   ]
  },
  {
   "cell_type": "code",
   "execution_count": 87,
   "id": "14732b8b",
   "metadata": {},
   "outputs": [
    {
     "name": "stdout",
     "output_type": "stream",
     "text": [
      "img_00435\n",
      "['img_00435.jpg']\n"
     ]
    },
    {
     "data": {
      "text/plain": [
       "[]"
      ]
     },
     "execution_count": 87,
     "metadata": {},
     "output_type": "execute_result"
    },
    {
     "data": {
      "image/png": "[encoded data removed]",
      "text/plain": [
       "<Figure size 432x288 with 1 Axes>"
      ]
     },
     "metadata": {
      "needs_background": "light"
     },
     "output_type": "display_data"
    }
   ],
   "source": [
    "\n",
    "path=os.listdir(IMAGE_PATH+'/test/')\n",
    "fin_path=[]\n",
    "\n",
    "for i in path:\n",
    "    if i[-1] != 'n':\n",
    "        fin_path.append(i)\n",
    "new_dir=fin_path[0].split('.')[0]\n",
    "print(new_dir)\n",
    "if os.path.exists(IMAGE_PATH+'/test/'+new_dir) == False:\n",
    "    os.mkdir(IMAGE_PATH+'/test/'+new_dir)\n",
    "print(fin_path)\n",
    "\n",
    "\n",
    "\n",
    "import image_slicer\n",
    "tiles = image_slicer.slice(IMAGE_PATH+'/test/'+ fin_path[0], 10, save=False)\n",
    "image_slicer.save_tiles(tiles, directory=IMAGE_PATH+'/test/'+new_dir,prefix='slice', format='jpeg')\n",
    "\n",
    "test_images_path=tf.data.Dataset.list_files(IMAGE_PATH+'/test/{}/*.jpg'.format(new_dir),shuffle=False)\n",
    "\n",
    "def load_test_image(x): \n",
    "    byte_img = tf.io.read_file(x)\n",
    "    img = tf.io.decode_jpeg(byte_img)\n",
    "    img=tf.image.resize(img,\n",
    "                        (config.imgHeight,config.imgWidth),\n",
    "                        preserve_aspect_ratio=False,\n",
    "                        antialias=False,       \n",
    "    )\n",
    "    img=tf.cast(\n",
    "    img, tf.uint8, name=None\n",
    "    )\n",
    "    return img\n",
    "\n",
    "test_images=test_images_path.map(lambda s : tf.py_function(load_test_image,[s],tf.uint8))\n",
    "plt.imshow(test_images.as_numpy_iterator().next())\n",
    "plt.plot()\n",
    "\n"
   ]
  },
  {
   "cell_type": "code",
   "execution_count": null,
   "id": "bc130dff",
   "metadata": {},
   "outputs": [],
   "source": []
  },
  {
   "cell_type": "code",
   "execution_count": null,
   "id": "eb21aafa",
   "metadata": {},
   "outputs": [],
   "source": []
  },
  {
   "cell_type": "code",
   "execution_count": 88,
   "id": "7a1f872e",
   "metadata": {},
   "outputs": [
    {
     "name": "stdout",
     "output_type": "stream",
     "text": [
      "[[1.         1.         0.         0.01956802]] [[0.0000000e+00 8.1986105e-32 0.0000000e+00]]\n",
      "[array([[0.0000000e+00, 8.1986105e-32, 0.0000000e+00]], dtype=float32), array([[1.        , 1.        , 0.        , 0.01956802]], dtype=float32)]\n",
      "[[1.000000e+00 1.000000e+00 4.439166e-16 2.883985e-04]] [[0.0000000e+00 1.8267426e-13 0.0000000e+00]]\n",
      "[array([[0.0000000e+00, 1.8267426e-13, 0.0000000e+00]], dtype=float32), array([[1.000000e+00, 1.000000e+00, 4.439166e-16, 2.883985e-04]],\n",
      "      dtype=float32)]\n",
      "[[1.00000000e+00 1.00000000e+00 2.38982257e-31 1.09283194e-10]] [[0.0000000e+00 3.5492872e-22 0.0000000e+00]]\n",
      "[array([[0.0000000e+00, 3.5492872e-22, 0.0000000e+00]], dtype=float32), array([[1.00000000e+00, 1.00000000e+00, 2.38982257e-31, 1.09283194e-10]],\n",
      "      dtype=float32)]\n",
      "[[1.0000000e+00 1.0000000e+00 2.5187723e-36 8.4816187e-15]] [[0.000000e+00 4.581898e-31 0.000000e+00]]\n",
      "[array([[0.000000e+00, 4.581898e-31, 0.000000e+00]], dtype=float32), array([[1.0000000e+00, 1.0000000e+00, 2.5187723e-36, 8.4816187e-15]],\n",
      "      dtype=float32)]\n",
      "[[1.0000000e+00 1.0000000e+00 0.0000000e+00 2.8248753e-10]] [[0. 0. 0.]]\n",
      "[array([[0., 0., 0.]], dtype=float32), array([[1.0000000e+00, 1.0000000e+00, 0.0000000e+00, 2.8248753e-10]],\n",
      "      dtype=float32)]\n",
      "[[1.0000000e+00 1.0000000e+00 0.0000000e+00 1.5997703e-15]] [[0. 0. 0.]]\n",
      "[array([[0., 0., 0.]], dtype=float32), array([[1.0000000e+00, 1.0000000e+00, 0.0000000e+00, 1.5997703e-15]],\n",
      "      dtype=float32)]\n",
      "[[1.000000e+00 1.000000e+00 0.000000e+00 8.880725e-12]] [[0. 0. 0.]]\n",
      "[array([[0., 0., 0.]], dtype=float32), array([[1.000000e+00, 1.000000e+00, 0.000000e+00, 8.880725e-12]],\n",
      "      dtype=float32)]\n",
      "[[1.0000000e+00 1.0000000e+00 0.0000000e+00 1.5860901e-10]] [[0. 0. 0.]]\n",
      "[array([[0., 0., 0.]], dtype=float32), array([[1.0000000e+00, 1.0000000e+00, 0.0000000e+00, 1.5860901e-10]],\n",
      "      dtype=float32)]\n",
      "[[0.8153868  0.8634303  0.29898366 0.6022557 ]] [[0.04604136 0.5397251  0.07297484]]\n",
      "[array([[0.04604136, 0.5397251 , 0.07297484]], dtype=float32), array([[0.8153868 , 0.8634303 , 0.29898366, 0.6022557 ]], dtype=float32)]\n",
      "[[0.8153868  0.8634303  0.29898366 0.6022557 ]] [[0.04604136 0.5397251  0.07297484]]\n",
      "[array([[0.04604136, 0.5397251 , 0.07297484]], dtype=float32), array([[0.8153868 , 0.8634303 , 0.29898366, 0.6022557 ]], dtype=float32)]\n",
      "[[1.0000000e+00 1.0000000e+00 2.6810583e-34 1.9493494e-07]] [[0.000000e+00 1.998319e-23 0.000000e+00]]\n",
      "[array([[0.000000e+00, 1.998319e-23, 0.000000e+00]], dtype=float32), array([[1.0000000e+00, 1.0000000e+00, 2.6810583e-34, 1.9493494e-07]],\n",
      "      dtype=float32)]\n",
      "[[1.0000000e+00 1.0000000e+00 1.8035286e-14 9.9998558e-01]] [[0.000000e+00 6.897686e-09 0.000000e+00]]\n",
      "[array([[0.000000e+00, 6.897686e-09, 0.000000e+00]], dtype=float32), array([[1.0000000e+00, 1.0000000e+00, 1.8035286e-14, 9.9998558e-01]],\n",
      "      dtype=float32)]\n"
     ]
    },
    {
     "data": {
      "image/png": "[encoded data removed]",
      "text/plain": [
       "<Figure size 432x288 with 1 Axes>"
      ]
     },
     "metadata": {
      "needs_background": "light"
     },
     "output_type": "display_data"
    }
   ],
   "source": [
    "\n",
    "boxlist=[]\n",
    "classConfidence=[]\n",
    "color=[(0,0,0),(0,255,255),(0,0,255)]\n",
    "\n",
    "\n",
    "for i in os.listdir(IMAGE_PATH+'/test/'+new_dir):\n",
    "    image=cv2.imread(IMAGE_PATH+'/test/'+new_dir+'/'+i)\n",
    "    img=tf.image.resize(image,\n",
    "                        (config.imgHeight,config.imgWidth),\n",
    "                        preserve_aspect_ratio=False,\n",
    "                        antialias=False,       \n",
    "    )\n",
    "    img=tf.cast(\n",
    "    img, tf.uint8, name=None\n",
    "    )\n",
    "    prediction=model.predict(np.expand_dims(img,axis=0))\n",
    "    xmin,ymin,xmax,ymax=[round(x) for x in (prediction[1]).reshape(4)]\n",
    "    boxlist.append([xmin,ymin,xmax,ymax])\n",
    "    classConfidence.append(prediction[0])\n",
    "    print(prediction[1],prediction[0])\n",
    "    plt.imshow(image)\n",
    "    plt.plot()\n",
    "    print(prediction)"
   ]
  },
  {
   "cell_type": "code",
   "execution_count": 89,
   "id": "ce268327",
   "metadata": {},
   "outputs": [
    {
     "data": {
      "text/plain": [
       "[[1, 1, 0, 0],\n",
       " [1, 1, 0, 0],\n",
       " [1, 1, 0, 0],\n",
       " [1, 1, 0, 0],\n",
       " [1, 1, 0, 0],\n",
       " [1, 1, 0, 0],\n",
       " [1, 1, 0, 0],\n",
       " [1, 1, 0, 0],\n",
       " [1, 1, 0, 1],\n",
       " [1, 1, 0, 1],\n",
       " [1, 1, 0, 0],\n",
       " [1, 1, 0, 1]]"
      ]
     },
     "execution_count": 89,
     "metadata": {},
     "output_type": "execute_result"
    }
   ],
   "source": [
    "boxlist"
   ]
  },
  {
   "cell_type": "code",
   "execution_count": 90,
   "id": "92773d1e",
   "metadata": {},
   "outputs": [
    {
     "data": {
      "text/plain": [
       "[array([[0.000000e+00, 6.897686e-09, 0.000000e+00]], dtype=float32),\n",
       " array([[1.0000000e+00, 1.0000000e+00, 1.8035286e-14, 9.9998558e-01]],\n",
       "       dtype=float32)]"
      ]
     },
     "execution_count": 90,
     "metadata": {},
     "output_type": "execute_result"
    }
   ],
   "source": [
    "prediction"
   ]
  },
  {
   "cell_type": "code",
   "execution_count": 91,
   "id": "01678dd3",
   "metadata": {},
   "outputs": [
    {
     "data": {
      "text/plain": [
       "'%matplotlib inline \\nimage=test.as_numpy_iterator().next()[0].copy()\\nplt.imshow(np.squeeze(image))\\nplt.plot()\\nboxlist=[]\\nclassConfidence=[]\\ncolor=[(0,0,0),(0,255,255),(0,0,255)]\\n\\n\\nfor i in range(10):\\n    prediction=model.predict(image)\\n    xmin,ymin,xmax,ymax=[round(x) for x in (prediction[1]).reshape(4)]\\n    boxlist.append([xmin,ymin,xmax,ymax])\\n    classConfidence.append(prediction[0])\\n    print(prediction[1],prediction[0])\\n    image=cv2.rectangle(np.squeeze(image), (xmin,ymin), (xmax,ymax), (0,0,0),-1)\\n    plt.imshow(image)\\n    plt.plot()\\n    image=np.expand_dims(image, axis=0)\\n'"
      ]
     },
     "execution_count": 91,
     "metadata": {},
     "output_type": "execute_result"
    }
   ],
   "source": [
    "'''%matplotlib inline \n",
    "image=test.as_numpy_iterator().next()[0].copy()\n",
    "plt.imshow(np.squeeze(image))\n",
    "plt.plot()\n",
    "boxlist=[]\n",
    "classConfidence=[]\n",
    "color=[(0,0,0),(0,255,255),(0,0,255)]\n",
    "\n",
    "\n",
    "for i in range(10):\n",
    "    prediction=model.predict(image)\n",
    "    xmin,ymin,xmax,ymax=[round(x) for x in (prediction[1]).reshape(4)]\n",
    "    boxlist.append([xmin,ymin,xmax,ymax])\n",
    "    classConfidence.append(prediction[0])\n",
    "    print(prediction[1],prediction[0])\n",
    "    image=cv2.rectangle(np.squeeze(image), (xmin,ymin), (xmax,ymax), (0,0,0),-1)\n",
    "    plt.imshow(image)\n",
    "    plt.plot()\n",
    "    image=np.expand_dims(image, axis=0)\n",
    "'''"
   ]
  },
  {
   "cell_type": "code",
   "execution_count": null,
   "id": "b42e6af0",
   "metadata": {},
   "outputs": [],
   "source": []
  },
  {
   "cell_type": "code",
   "execution_count": null,
   "id": "afbe216e",
   "metadata": {},
   "outputs": [],
   "source": []
  },
  {
   "cell_type": "code",
   "execution_count": 92,
   "id": "0a457007",
   "metadata": {},
   "outputs": [
    {
     "data": {
      "text/plain": [
       "[array([0.0000000e+00, 8.1986105e-32, 0.0000000e+00], dtype=float32),\n",
       " array([0.0000000e+00, 1.8267426e-13, 0.0000000e+00], dtype=float32),\n",
       " array([0.0000000e+00, 3.5492872e-22, 0.0000000e+00], dtype=float32),\n",
       " array([0.000000e+00, 4.581898e-31, 0.000000e+00], dtype=float32),\n",
       " array([0., 0., 0.], dtype=float32),\n",
       " array([0., 0., 0.], dtype=float32),\n",
       " array([0., 0., 0.], dtype=float32),\n",
       " array([0., 0., 0.], dtype=float32),\n",
       " array([0.04604136, 0.5397251 , 0.07297484], dtype=float32),\n",
       " array([0.04604136, 0.5397251 , 0.07297484], dtype=float32),\n",
       " array([0.000000e+00, 1.998319e-23, 0.000000e+00], dtype=float32),\n",
       " array([0.000000e+00, 6.897686e-09, 0.000000e+00], dtype=float32)]"
      ]
     },
     "execution_count": 92,
     "metadata": {},
     "output_type": "execute_result"
    }
   ],
   "source": [
    "classConfidence=[np.squeeze(x) for x in classConfidence]\n",
    "classConfidence"
   ]
  },
  {
   "cell_type": "code",
   "execution_count": null,
   "id": "2542d8a2",
   "metadata": {},
   "outputs": [],
   "source": []
  },
  {
   "cell_type": "code",
   "execution_count": 93,
   "id": "02f73d37",
   "metadata": {},
   "outputs": [
    {
     "name": "stdout",
     "output_type": "stream",
     "text": [
      "[1, 1, 1, 1, 0, 0, 0, 0, 1, 1, 1, 1]\n"
     ]
    },
    {
     "data": {
      "text/plain": [
       "array([[0., 1., 0.],\n",
       "       [0., 1., 0.],\n",
       "       [0., 1., 0.],\n",
       "       [0., 1., 0.],\n",
       "       [1., 0., 0.],\n",
       "       [1., 0., 0.],\n",
       "       [1., 0., 0.],\n",
       "       [1., 0., 0.],\n",
       "       [0., 1., 0.],\n",
       "       [0., 1., 0.],\n",
       "       [0., 1., 0.],\n",
       "       [0., 1., 0.]], dtype=float32)"
      ]
     },
     "execution_count": 93,
     "metadata": {},
     "output_type": "execute_result"
    }
   ],
   "source": [
    "classEncoded = np.zeros_like(classConfidence)\n",
    "check=[x.argmax() for x in classConfidence]\n",
    "print(check)\n",
    "for i in range(len(check)):\n",
    "    classEncoded[i][check[i]]=1\n",
    "\n",
    "classEncoded"
   ]
  },
  {
   "cell_type": "code",
   "execution_count": 94,
   "id": "3672e985",
   "metadata": {},
   "outputs": [
    {
     "data": {
      "text/plain": [
       "<tf.Tensor: shape=(4,), dtype=int32, numpy=array([ 8,  9, 11,  1])>"
      ]
     },
     "execution_count": 94,
     "metadata": {},
     "output_type": "execute_result"
    }
   ],
   "source": [
    "classMax=[max(x) for x in np.squeeze(classConfidence)]\n",
    "boxIndex=tf.image.non_max_suppression(boxlist,classMax,max_output_size=50,iou_threshold=0.1)\n",
    "boxIndex"
   ]
  },
  {
   "cell_type": "code",
   "execution_count": 95,
   "id": "76c581a1",
   "metadata": {},
   "outputs": [
    {
     "data": {
      "text/plain": [
       "[[1, 1, 0, 1], [1, 1, 0, 1], [1, 1, 0, 1], [1, 1, 0, 0]]"
      ]
     },
     "execution_count": 95,
     "metadata": {},
     "output_type": "execute_result"
    }
   ],
   "source": [
    "boxList_=[]\n",
    "for i in boxIndex:\n",
    "    boxList_.append(boxlist[i])\n",
    "boxList_"
   ]
  },
  {
   "cell_type": "code",
   "execution_count": 96,
   "id": "ffe6a2ac",
   "metadata": {},
   "outputs": [
    {
     "data": {
      "text/plain": [
       "array([['Dolphinfish'],\n",
       "       ['Dolphinfish'],\n",
       "       ['Dolphinfish'],\n",
       "       ['Dolphinfish'],\n",
       "       ['Bigeye tuna'],\n",
       "       ['Bigeye tuna'],\n",
       "       ['Bigeye tuna'],\n",
       "       ['Bigeye tuna'],\n",
       "       ['Dolphinfish'],\n",
       "       ['Dolphinfish'],\n",
       "       ['Dolphinfish'],\n",
       "       ['Dolphinfish']], dtype='<U11')"
      ]
     },
     "execution_count": 96,
     "metadata": {},
     "output_type": "execute_result"
    }
   ],
   "source": [
    "classPrediction=encoder.inverse_transform(classEncoded)\n",
    "classPrediction"
   ]
  },
  {
   "cell_type": "code",
   "execution_count": null,
   "id": "4abb57dd",
   "metadata": {},
   "outputs": [],
   "source": []
  },
  {
   "cell_type": "code",
   "execution_count": 41,
   "id": "405e515b",
   "metadata": {
    "scrolled": true
   },
   "outputs": [
    {
     "name": "stdout",
     "output_type": "stream",
     "text": [
      "[0.00000e+00 2.69064e-25 0.00000e+00] Dolphinfish [1, 1, 0, 0]\n"
     ]
    },
    {
     "data": {
      "image/png": "[encoded data removed]",
      "text/plain": [
       "<Figure size 432x288 with 1 Axes>"
      ]
     },
     "metadata": {
      "needs_background": "light"
     },
     "output_type": "display_data"
    }
   ],
   "source": [
    "main_image=test.as_numpy_iterator().next()[0]\n",
    "image=np.squeeze(main_image.copy())\n",
    "for i in boxIndex:\n",
    "    xmin,ymin,xmin,xmax=boxlist[i]\n",
    "    print(classConfidence[i],classPrediction[np.array(boxIndex)][0][0],boxlist[i])\n",
    "    image=cv2.rectangle(image,(xmin,ymin),(xmax,ymax),(0,0,0),2)\n",
    "    plt.imshow(image)\n",
    "    plt.plot()"
   ]
  },
  {
   "cell_type": "code",
   "execution_count": 97,
   "id": "f0ec2cb1",
   "metadata": {},
   "outputs": [
    {
     "name": "stdout",
     "output_type": "stream",
     "text": [
      "[1, 1, 0, 1] Dolphinfish\n",
      "[1, 1, 0, 1] Dolphinfish\n",
      "[1, 1, 0, 1] Dolphinfish\n",
      "[1, 1, 0, 0] Dolphinfish\n",
      "{'Moonfish': 0, 'Dolphinfish': 4, 'Bigeye tuna': 0}\n"
     ]
    }
   ],
   "source": [
    "def speciesCount(boundingList):\n",
    "    count={}\n",
    "    fl=0\n",
    "    for j in config.classes_:\n",
    "        count[j]=0\n",
    "    for i in range(len(boundingList)):\n",
    "        print(boxList_[i],classPrediction[i][0])\n",
    "        temp=list(classPrediction[i])[0]\n",
    "        count[temp]=count[temp]+1\n",
    "    print(count)\n",
    "    return count\n",
    "\n",
    "\n",
    "\n",
    "speciesCount_=speciesCount(boundingList=boxList_)"
   ]
  },
  {
   "cell_type": "code",
   "execution_count": null,
   "id": "801d33a2",
   "metadata": {},
   "outputs": [],
   "source": []
  },
  {
   "cell_type": "code",
   "execution_count": 98,
   "id": "cf3c4995",
   "metadata": {},
   "outputs": [],
   "source": [
    "biomassData={\n",
    "    'Moonfish':2,\n",
    "    'Dolphinfish':4,\n",
    "    'Bigeye tuna':6,\n",
    "}"
   ]
  },
  {
   "cell_type": "code",
   "execution_count": 99,
   "id": "92c4b7df",
   "metadata": {},
   "outputs": [
    {
     "data": {
      "text/plain": [
       "{'Moonfish': 0, 'Dolphinfish': 16, 'Bigeye tuna': 0}"
      ]
     },
     "execution_count": 99,
     "metadata": {},
     "output_type": "execute_result"
    }
   ],
   "source": [
    "bioMass={}\n",
    "for i,j in speciesCount_.items():\n",
    "    bioMass[i]=biomassData[i]*j\n",
    "\n",
    "bioMass"
   ]
  },
  {
   "cell_type": "code",
   "execution_count": null,
   "id": "a76d9ddc",
   "metadata": {},
   "outputs": [],
   "source": []
  },
  {
   "cell_type": "markdown",
   "id": "c2abca99",
   "metadata": {},
   "source": []
  },
  {
   "cell_type": "code",
   "execution_count": null,
   "id": "4db9038f",
   "metadata": {},
   "outputs": [],
   "source": []
  },
  {
   "cell_type": "markdown",
   "id": "1315f191",
   "metadata": {},
   "source": [
    "# GENERATE REPORT"
   ]
  },
  {
   "cell_type": "code",
   "execution_count": null,
   "id": "fe7b2af6",
   "metadata": {},
   "outputs": [],
   "source": []
  },
  {
   "cell_type": "code",
   "execution_count": 100,
   "id": "71f7ce45",
   "metadata": {},
   "outputs": [],
   "source": [
    "from datetime import datetime\n",
    "\n",
    "def create_report(speciesList):\n",
    "    out_str=[]\n",
    "    for species,count in speciesList.items():\n",
    "        out_str.append(' '.join([species,':',str(count)]))\n",
    "        #print(species,count)\n",
    "        #out_str\n",
    "    pdf = FPDF()\n",
    "    pdf.add_page()\n",
    "    pdf.set_font('Arial', 'B', 16)\n",
    "    pdf.cell(190, 15, 'Total Species Count And Biomass', 1, 0, 'C')\n",
    "    pdf.ln(30)\n",
    "\n",
    "    pdf.cell(40, 10,'Name : VINOTH KUMAR')\n",
    "    pdf.ln()\n",
    "\n",
    "    pdf.cell(40, 10,'Id   : FR204187')\n",
    "    pdf.ln()\n",
    "\n",
    "    pdf.cell(40, 10,'Age  : 36')\n",
    "    pdf.ln()\n",
    "\n",
    "    pdf.cell(40, 10,'Time : '+str(datetime.now()))\n",
    "    pdf.ln(15)\n",
    "\n",
    "    pdf.cell(0,0,'-----------------------------------------------------------------------------------------------------')\n",
    "    pdf.ln(10)\n",
    "    for species in out_str:\n",
    "        pdf.cell(40, 10,species)\n",
    "        pdf.ln()\n",
    "    pdf.output('final_report.pdf', 'F')\n",
    "    print(\"Report Created Successfully\")\n"
   ]
  },
  {
   "cell_type": "code",
   "execution_count": 101,
   "id": "703c3912",
   "metadata": {},
   "outputs": [
    {
     "name": "stdout",
     "output_type": "stream",
     "text": [
      "Report Created Successfully\n"
     ]
    }
   ],
   "source": [
    "create_report(speciesList=speciesCount_)"
   ]
  },
  {
   "cell_type": "markdown",
   "id": "0c3f4d8b",
   "metadata": {},
   "source": [
    "# MAIL AND SMS FILES"
   ]
  },
  {
   "cell_type": "code",
   "execution_count": null,
   "id": "42dfcc78",
   "metadata": {},
   "outputs": [],
   "source": []
  },
  {
   "cell_type": "markdown",
   "id": "340e8635",
   "metadata": {},
   "source": [
    "SMS"
   ]
  },
  {
   "cell_type": "code",
   "execution_count": 102,
   "id": "c3b0ebe8",
   "metadata": {},
   "outputs": [
    {
     "name": "stdout",
     "output_type": "stream",
     "text": [
      "Sent from your Twilio trial account - ALERT!!!--Dolphinfish caught\n"
     ]
    }
   ],
   "source": [
    "from twilio.rest import Client\n",
    "\n",
    "account_sid='AC1c898986e90251c293f2612e47aa8a25'\n",
    "auth_token='759966e5d33ed91feed43ca1294c757e'\n",
    "client = Client(account_sid, auth_token)\n",
    "\n",
    "twilio_number='+19705145914'\n",
    "target_number='+917010903976'\n",
    "\n",
    "\n",
    "for species,count in speciesCount_.items():\n",
    "    if species=='Dolphinfish' and count>0:\n",
    "        message =client.messages.create(\n",
    "        body=\"ALERT!!!--Dolphinfish caught\",\n",
    "        from_=twilio_number,\n",
    "        to=target_number\n",
    "        )\n",
    "\n",
    "        print(message.body)\n",
    "\n"
   ]
  },
  {
   "cell_type": "code",
   "execution_count": 103,
   "id": "fe59a89f",
   "metadata": {},
   "outputs": [
    {
     "data": {
      "text/plain": [
       "<Chart COLUMN 'Fish'>"
      ]
     },
     "execution_count": 103,
     "metadata": {},
     "output_type": "execute_result"
    }
   ],
   "source": [
    "# Importing required library\n",
    "import pygsheets\n",
    "\n",
    "# Create the Client\n",
    "client = pygsheets.authorize(service_account_file=\"sih2022-360518-69683d9cb0a2.json\")\n",
    "\n",
    "# opens a spreadsheet by its name/title\n",
    "spreadsht = client.open(\"sih\")\n",
    "\n",
    "# opens a worksheet by its name/title\n",
    "worksht = spreadsht.worksheet(\"title\", \"Sheet1\")\n",
    "\n",
    "# Now, let's add data to our worksheet\n",
    "\n",
    "# Creating the first column\n",
    "worksht.cell(\"A1\").set_text_format(\"bold\", True).value = \"S.NO\"\n",
    "worksht.update_values(\"A2:A3\", [[1],[2]]) # Adding row values\n",
    "\n",
    "\n",
    "worksht.cell(\"B1\").set_text_format(\"bold\", True).value = \"Species\"\n",
    "worksht.update_values(\"B2:B3\", [['Bigeye tuna'],['Dolphinfish']]) # Adding row values\n",
    "\n",
    "# Similarly, creating the second column\n",
    "worksht.cell(\"C1\").set_text_format(\"bold\", True).value = \"Count\"\n",
    "worksht.update_values(\"C2:C3\", [[speciesCount_['Bigeye tuna']], [speciesCount_['Dolphinfish']]])\n",
    "\n",
    "# Similarly, creating the second column\n",
    "worksht.cell(\"D1\").set_text_format(\"bold\", True).value = \"Biomass(Kg)\"\n",
    "worksht.update_values(\"D2:D3\", [[bioMass['Bigeye tuna']], [bioMass['Dolphinfish']]])\n",
    "# Creating a basic bar chart\n",
    "worksht.add_chart((\"B2\", \"B6\"), [(\"C2\", \"C6\")], \"Fish\")\n",
    "\n"
   ]
  },
  {
   "cell_type": "code",
   "execution_count": null,
   "id": "76866fb6",
   "metadata": {},
   "outputs": [],
   "source": []
  }
 ],
 "metadata": {
  "kernelspec": {
   "display_name": "Python 3.8.0 ('dd')",
   "language": "python",
   "name": "python3"
  },
  "language_info": {
   "codemirror_mode": {
    "name": "ipython",
    "version": 3
   },
   "file_extension": ".py",
   "mimetype": "text/x-python",
   "name": "python",
   "nbconvert_exporter": "python",
   "pygments_lexer": "ipython3",
   "version": "3.8.0"
  },
  "vscode": {
   "interpreter": {
    "hash": "0f8d9ae5991e851bb7f79f7ac1f36c60effef6e1a4bc8573a8331d0e828c1cef"
   }
  }
 },
 "nbformat": 4,
 "nbformat_minor": 5
}
